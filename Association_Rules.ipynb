{
  "nbformat": 4,
  "nbformat_minor": 0,
  "metadata": {
    "kernelspec": {
      "display_name": "Python 3",
      "language": "python",
      "name": "python3"
    },
    "language_info": {
      "codemirror_mode": {
        "name": "ipython",
        "version": 3
      },
      "file_extension": ".py",
      "mimetype": "text/x-python",
      "name": "python",
      "nbconvert_exporter": "python",
      "pygments_lexer": "ipython3",
      "version": "3.6.0"
    },
    "colab": {
      "name": "Association Rules.ipynb",
      "provenance": []
    }
  },
  "cells": [
    {
      "cell_type": "markdown",
      "metadata": {
        "id": "YJ-TkqFRAdus"
      },
      "source": [
        "Association Rules dengan menggunakan MLxtend"
      ]
    },
    {
      "cell_type": "markdown",
      "metadata": {
        "id": "mEFxoSuFAdux"
      },
      "source": [
        "### Contoh 1"
      ]
    },
    {
      "cell_type": "markdown",
      "metadata": {
        "id": "or-ZK3V5Adux"
      },
      "source": [
        "Membuat dataset yang berisi list kemungkinan pembelian barang yang dibeli dalam satu transaksi. Contohnya, seseorang dalam 1 transaksinya membeli Roti, Selai, dan Mentega. Nah, kombinasi produk pada beberapa transaksi seterusnya akan kita buat dalam dataset berikut!"
      ]
    },
    {
      "cell_type": "code",
      "metadata": {
        "id": "G7JchoO9Aduy"
      },
      "source": [
        "#buat dataset dalam bentuk list\n",
        "dataset = [['Roti', 'Selai', 'Mentega'],\n",
        "          ['Roti', 'Mentega'],\n",
        "          ['Roti', 'Susu', 'Mentega'],\n",
        "          ['Coklat', 'Roti'],\n",
        "          ['Coklat', 'Susu']]"
      ],
      "execution_count": 1,
      "outputs": []
    },
    {
      "cell_type": "markdown",
      "metadata": {
        "id": "MjVYJKnUAduz"
      },
      "source": [
        "Dengan menggunakan \"Association Rules\", lihat hubungan asosiasi antar item produk, seperti seberapa besar kemungkinannya produk-produk tertentu akan dibeli bersamaan (dalam 1 transaksi)."
      ]
    },
    {
      "cell_type": "code",
      "metadata": {
        "id": "KfKEgxj5Aduz"
      },
      "source": [
        "#Menggunakan MLxtend preprocessing untuk meng-encode Dataset menjadi One Hot Encoding\n",
        "\n",
        "from mlxtend.preprocessing import TransactionEncoder\n",
        "import pandas as pd\n",
        "\n",
        "te = TransactionEncoder()\n",
        "te_array = te.fit(dataset).transform(dataset)"
      ],
      "execution_count": 2,
      "outputs": []
    },
    {
      "cell_type": "markdown",
      "metadata": {
        "id": "6zbyYTsHAdu0"
      },
      "source": [
        "Untuk dataset yang kita encode. Berikut sedikit penjelasannya."
      ]
    },
    {
      "cell_type": "markdown",
      "metadata": {
        "id": "URCH2itEAdu0"
      },
      "source": [
        "Dataset akan disesuaikan antara item dan transaksi, dimana akan terlihat suatu item berada di transaksi mana saja bersama dengan produk apa saja dalam sebuah transaksi. "
      ]
    },
    {
      "cell_type": "code",
      "metadata": {
        "id": "GlvcLgdpAdu0",
        "colab": {
          "base_uri": "https://localhost:8080/"
        },
        "outputId": "d7de56f6-7f2a-43a4-cc0c-7270807e57c1"
      },
      "source": [
        "te_array"
      ],
      "execution_count": 3,
      "outputs": [
        {
          "output_type": "execute_result",
          "data": {
            "text/plain": [
              "array([[False,  True,  True,  True, False],\n",
              "       [False,  True,  True, False, False],\n",
              "       [False,  True,  True, False,  True],\n",
              "       [ True, False,  True, False, False],\n",
              "       [ True, False, False, False,  True]])"
            ]
          },
          "metadata": {
            "tags": []
          },
          "execution_count": 3
        }
      ]
    },
    {
      "cell_type": "markdown",
      "metadata": {
        "id": "O-IYmtSqAdu3"
      },
      "source": [
        "Agar bisa lebih bermakna, maka kita akan transformasikan ke dalam bentuk dataframe"
      ]
    },
    {
      "cell_type": "code",
      "metadata": {
        "id": "T27w1HE8Adu3"
      },
      "source": [
        "#ubah ke dataframe\n",
        "df = pd.DataFrame(te_array, columns=te.columns_)"
      ],
      "execution_count": 4,
      "outputs": []
    },
    {
      "cell_type": "markdown",
      "metadata": {
        "id": "MMgD-llUAdu3"
      },
      "source": [
        "Bila kita ibaratkan dalam bentuk tabel asosiasi, maka jumlah kolom akan tersedia menurut item apa saja yang ada dalam dataset. Sedangkan jumlah baris menggambarkan setiap transaksinya."
      ]
    },
    {
      "cell_type": "code",
      "metadata": {
        "id": "JhRy5D5rAdu3",
        "colab": {
          "base_uri": "https://localhost:8080/",
          "height": 202
        },
        "outputId": "1a6fa23f-8b45-46a4-81ea-d5fbf458f195"
      },
      "source": [
        "df"
      ],
      "execution_count": 5,
      "outputs": [
        {
          "output_type": "execute_result",
          "data": {
            "text/html": [
              "<div>\n",
              "<style scoped>\n",
              "    .dataframe tbody tr th:only-of-type {\n",
              "        vertical-align: middle;\n",
              "    }\n",
              "\n",
              "    .dataframe tbody tr th {\n",
              "        vertical-align: top;\n",
              "    }\n",
              "\n",
              "    .dataframe thead th {\n",
              "        text-align: right;\n",
              "    }\n",
              "</style>\n",
              "<table border=\"1\" class=\"dataframe\">\n",
              "  <thead>\n",
              "    <tr style=\"text-align: right;\">\n",
              "      <th></th>\n",
              "      <th>Coklat</th>\n",
              "      <th>Mentega</th>\n",
              "      <th>Roti</th>\n",
              "      <th>Selai</th>\n",
              "      <th>Susu</th>\n",
              "    </tr>\n",
              "  </thead>\n",
              "  <tbody>\n",
              "    <tr>\n",
              "      <th>0</th>\n",
              "      <td>False</td>\n",
              "      <td>True</td>\n",
              "      <td>True</td>\n",
              "      <td>True</td>\n",
              "      <td>False</td>\n",
              "    </tr>\n",
              "    <tr>\n",
              "      <th>1</th>\n",
              "      <td>False</td>\n",
              "      <td>True</td>\n",
              "      <td>True</td>\n",
              "      <td>False</td>\n",
              "      <td>False</td>\n",
              "    </tr>\n",
              "    <tr>\n",
              "      <th>2</th>\n",
              "      <td>False</td>\n",
              "      <td>True</td>\n",
              "      <td>True</td>\n",
              "      <td>False</td>\n",
              "      <td>True</td>\n",
              "    </tr>\n",
              "    <tr>\n",
              "      <th>3</th>\n",
              "      <td>True</td>\n",
              "      <td>False</td>\n",
              "      <td>True</td>\n",
              "      <td>False</td>\n",
              "      <td>False</td>\n",
              "    </tr>\n",
              "    <tr>\n",
              "      <th>4</th>\n",
              "      <td>True</td>\n",
              "      <td>False</td>\n",
              "      <td>False</td>\n",
              "      <td>False</td>\n",
              "      <td>True</td>\n",
              "    </tr>\n",
              "  </tbody>\n",
              "</table>\n",
              "</div>"
            ],
            "text/plain": [
              "   Coklat  Mentega   Roti  Selai   Susu\n",
              "0   False     True   True   True  False\n",
              "1   False     True   True  False  False\n",
              "2   False     True   True  False   True\n",
              "3    True    False   True  False  False\n",
              "4    True    False  False  False   True"
            ]
          },
          "metadata": {
            "tags": []
          },
          "execution_count": 5
        }
      ]
    },
    {
      "cell_type": "markdown",
      "metadata": {
        "id": "BfNIwOGPAdu3"
      },
      "source": [
        "Selanjutnya, kita akan mencari nilai-nilai besaran yang sering dijadikan acuan untuk mengetahui besar tingkat hubungan (asosiasi) antar item."
      ]
    },
    {
      "cell_type": "code",
      "metadata": {
        "id": "XeMecMVuAdu4"
      },
      "source": [
        "#menggunakan apriori untuk mencari nilai support dan confidence\n",
        "from mlxtend.frequent_patterns import apriori, association_rules\n",
        "\n",
        "#nilai min_support biasanya disesuaikan/ditentukan\n",
        "frekuensi_itemset = apriori(df,min_support=0.3, use_colnames=True)"
      ],
      "execution_count": 6,
      "outputs": []
    },
    {
      "cell_type": "markdown",
      "metadata": {
        "id": "XI1O2KSHAdu4"
      },
      "source": [
        "Pilih salah satu mau pakai \"confidence\" atau \"lift\" sebagai penentunya"
      ]
    },
    {
      "cell_type": "code",
      "metadata": {
        "id": "95jOzMgQAdu4",
        "colab": {
          "base_uri": "https://localhost:8080/",
          "height": 110
        },
        "outputId": "81ddfe9a-e926-4bf2-8dc1-6c1fe58d2c25"
      },
      "source": [
        "#nilai min_threshold biasanya disesuaikan/ditentukan\n",
        "aturan_asosiasi = association_rules(frekuensi_itemset, metric= 'confidence', min_threshold=0.6)\n",
        "aturan_asosiasi"
      ],
      "execution_count": 7,
      "outputs": [
        {
          "output_type": "execute_result",
          "data": {
            "text/html": [
              "<div>\n",
              "<style scoped>\n",
              "    .dataframe tbody tr th:only-of-type {\n",
              "        vertical-align: middle;\n",
              "    }\n",
              "\n",
              "    .dataframe tbody tr th {\n",
              "        vertical-align: top;\n",
              "    }\n",
              "\n",
              "    .dataframe thead th {\n",
              "        text-align: right;\n",
              "    }\n",
              "</style>\n",
              "<table border=\"1\" class=\"dataframe\">\n",
              "  <thead>\n",
              "    <tr style=\"text-align: right;\">\n",
              "      <th></th>\n",
              "      <th>antecedents</th>\n",
              "      <th>consequents</th>\n",
              "      <th>antecedent support</th>\n",
              "      <th>consequent support</th>\n",
              "      <th>support</th>\n",
              "      <th>confidence</th>\n",
              "      <th>lift</th>\n",
              "      <th>leverage</th>\n",
              "      <th>conviction</th>\n",
              "    </tr>\n",
              "  </thead>\n",
              "  <tbody>\n",
              "    <tr>\n",
              "      <th>0</th>\n",
              "      <td>(Roti)</td>\n",
              "      <td>(Mentega)</td>\n",
              "      <td>0.8</td>\n",
              "      <td>0.6</td>\n",
              "      <td>0.6</td>\n",
              "      <td>0.75</td>\n",
              "      <td>1.25</td>\n",
              "      <td>0.12</td>\n",
              "      <td>1.6</td>\n",
              "    </tr>\n",
              "    <tr>\n",
              "      <th>1</th>\n",
              "      <td>(Mentega)</td>\n",
              "      <td>(Roti)</td>\n",
              "      <td>0.6</td>\n",
              "      <td>0.8</td>\n",
              "      <td>0.6</td>\n",
              "      <td>1.00</td>\n",
              "      <td>1.25</td>\n",
              "      <td>0.12</td>\n",
              "      <td>inf</td>\n",
              "    </tr>\n",
              "  </tbody>\n",
              "</table>\n",
              "</div>"
            ],
            "text/plain": [
              "  antecedents consequents  antecedent support  ...  lift  leverage  conviction\n",
              "0      (Roti)   (Mentega)                 0.8  ...  1.25      0.12         1.6\n",
              "1   (Mentega)      (Roti)                 0.6  ...  1.25      0.12         inf\n",
              "\n",
              "[2 rows x 9 columns]"
            ]
          },
          "metadata": {
            "tags": []
          },
          "execution_count": 7
        }
      ]
    },
    {
      "cell_type": "code",
      "metadata": {
        "id": "jcLTU3BMAdu4",
        "colab": {
          "base_uri": "https://localhost:8080/",
          "height": 110
        },
        "outputId": "f851cccd-1b4a-4e8a-d1c7-1a47553b0715"
      },
      "source": [
        "#nilai min_threshold biasanya disesuaikan/ditentukan\n",
        "aturan_asosiasi2 = association_rules(frekuensi_itemset, metric= 'lift', min_threshold=1)\n",
        "aturan_asosiasi2"
      ],
      "execution_count": 8,
      "outputs": [
        {
          "output_type": "execute_result",
          "data": {
            "text/html": [
              "<div>\n",
              "<style scoped>\n",
              "    .dataframe tbody tr th:only-of-type {\n",
              "        vertical-align: middle;\n",
              "    }\n",
              "\n",
              "    .dataframe tbody tr th {\n",
              "        vertical-align: top;\n",
              "    }\n",
              "\n",
              "    .dataframe thead th {\n",
              "        text-align: right;\n",
              "    }\n",
              "</style>\n",
              "<table border=\"1\" class=\"dataframe\">\n",
              "  <thead>\n",
              "    <tr style=\"text-align: right;\">\n",
              "      <th></th>\n",
              "      <th>antecedents</th>\n",
              "      <th>consequents</th>\n",
              "      <th>antecedent support</th>\n",
              "      <th>consequent support</th>\n",
              "      <th>support</th>\n",
              "      <th>confidence</th>\n",
              "      <th>lift</th>\n",
              "      <th>leverage</th>\n",
              "      <th>conviction</th>\n",
              "    </tr>\n",
              "  </thead>\n",
              "  <tbody>\n",
              "    <tr>\n",
              "      <th>0</th>\n",
              "      <td>(Roti)</td>\n",
              "      <td>(Mentega)</td>\n",
              "      <td>0.8</td>\n",
              "      <td>0.6</td>\n",
              "      <td>0.6</td>\n",
              "      <td>0.75</td>\n",
              "      <td>1.25</td>\n",
              "      <td>0.12</td>\n",
              "      <td>1.6</td>\n",
              "    </tr>\n",
              "    <tr>\n",
              "      <th>1</th>\n",
              "      <td>(Mentega)</td>\n",
              "      <td>(Roti)</td>\n",
              "      <td>0.6</td>\n",
              "      <td>0.8</td>\n",
              "      <td>0.6</td>\n",
              "      <td>1.00</td>\n",
              "      <td>1.25</td>\n",
              "      <td>0.12</td>\n",
              "      <td>inf</td>\n",
              "    </tr>\n",
              "  </tbody>\n",
              "</table>\n",
              "</div>"
            ],
            "text/plain": [
              "  antecedents consequents  antecedent support  ...  lift  leverage  conviction\n",
              "0      (Roti)   (Mentega)                 0.8  ...  1.25      0.12         1.6\n",
              "1   (Mentega)      (Roti)                 0.6  ...  1.25      0.12         inf\n",
              "\n",
              "[2 rows x 9 columns]"
            ]
          },
          "metadata": {
            "tags": []
          },
          "execution_count": 8
        }
      ]
    },
    {
      "cell_type": "markdown",
      "metadata": {
        "id": "Ktd4y5pIAdu4"
      },
      "source": [
        "### Contoh 2"
      ]
    },
    {
      "cell_type": "markdown",
      "metadata": {
        "id": "Mu3tkYeIAdu4"
      },
      "source": [
        "Sama dengan dataset pertama, dataset ini juga merupakan kombinasi item yang berada dalam satu transaksi"
      ]
    },
    {
      "cell_type": "code",
      "metadata": {
        "id": "udAIsFApAdu5"
      },
      "source": [
        "dataset2  =[['Milk', 'Onion', 'Nutmeg', 'Kidney Beans', 'Eggs', 'Yogurt'],\n",
        "           ['Dill', 'Onion', 'Nutmeg', 'Kidney Beans', 'Eggs', 'Yogurt'],\n",
        "           ['Milk', 'Apple', 'Kidney Beans', 'Eggs'],\n",
        "           ['Milk', 'Unicorn', 'Corn', 'Kidney Beans', 'Yogurt'],\n",
        "           ['Corn', 'Onion', 'Onion', 'Kidney Beans', 'Ice Cream', 'Eggs']]"
      ],
      "execution_count": 9,
      "outputs": []
    },
    {
      "cell_type": "markdown",
      "metadata": {
        "id": "nu4cY-EhAdu5"
      },
      "source": [
        "Selanjutnya kita encode menjadi One Hot Encoding. \n",
        "Lalu transform ke dataframe"
      ]
    },
    {
      "cell_type": "code",
      "metadata": {
        "id": "SvY63ul3Adu5",
        "colab": {
          "base_uri": "https://localhost:8080/",
          "height": 202
        },
        "outputId": "22b2e0c7-eb9d-45e6-f079-83251693c6dc"
      },
      "source": [
        "te2 = TransactionEncoder()\n",
        "te_array2 = te2.fit(dataset2).transform(dataset2)\n",
        "data = pd.DataFrame(te_array2, columns=te2.columns_)\n",
        "data"
      ],
      "execution_count": 10,
      "outputs": [
        {
          "output_type": "execute_result",
          "data": {
            "text/html": [
              "<div>\n",
              "<style scoped>\n",
              "    .dataframe tbody tr th:only-of-type {\n",
              "        vertical-align: middle;\n",
              "    }\n",
              "\n",
              "    .dataframe tbody tr th {\n",
              "        vertical-align: top;\n",
              "    }\n",
              "\n",
              "    .dataframe thead th {\n",
              "        text-align: right;\n",
              "    }\n",
              "</style>\n",
              "<table border=\"1\" class=\"dataframe\">\n",
              "  <thead>\n",
              "    <tr style=\"text-align: right;\">\n",
              "      <th></th>\n",
              "      <th>Apple</th>\n",
              "      <th>Corn</th>\n",
              "      <th>Dill</th>\n",
              "      <th>Eggs</th>\n",
              "      <th>Ice Cream</th>\n",
              "      <th>Kidney Beans</th>\n",
              "      <th>Milk</th>\n",
              "      <th>Nutmeg</th>\n",
              "      <th>Onion</th>\n",
              "      <th>Unicorn</th>\n",
              "      <th>Yogurt</th>\n",
              "    </tr>\n",
              "  </thead>\n",
              "  <tbody>\n",
              "    <tr>\n",
              "      <th>0</th>\n",
              "      <td>False</td>\n",
              "      <td>False</td>\n",
              "      <td>False</td>\n",
              "      <td>True</td>\n",
              "      <td>False</td>\n",
              "      <td>True</td>\n",
              "      <td>True</td>\n",
              "      <td>True</td>\n",
              "      <td>True</td>\n",
              "      <td>False</td>\n",
              "      <td>True</td>\n",
              "    </tr>\n",
              "    <tr>\n",
              "      <th>1</th>\n",
              "      <td>False</td>\n",
              "      <td>False</td>\n",
              "      <td>True</td>\n",
              "      <td>True</td>\n",
              "      <td>False</td>\n",
              "      <td>True</td>\n",
              "      <td>False</td>\n",
              "      <td>True</td>\n",
              "      <td>True</td>\n",
              "      <td>False</td>\n",
              "      <td>True</td>\n",
              "    </tr>\n",
              "    <tr>\n",
              "      <th>2</th>\n",
              "      <td>True</td>\n",
              "      <td>False</td>\n",
              "      <td>False</td>\n",
              "      <td>True</td>\n",
              "      <td>False</td>\n",
              "      <td>True</td>\n",
              "      <td>True</td>\n",
              "      <td>False</td>\n",
              "      <td>False</td>\n",
              "      <td>False</td>\n",
              "      <td>False</td>\n",
              "    </tr>\n",
              "    <tr>\n",
              "      <th>3</th>\n",
              "      <td>False</td>\n",
              "      <td>True</td>\n",
              "      <td>False</td>\n",
              "      <td>False</td>\n",
              "      <td>False</td>\n",
              "      <td>True</td>\n",
              "      <td>True</td>\n",
              "      <td>False</td>\n",
              "      <td>False</td>\n",
              "      <td>True</td>\n",
              "      <td>True</td>\n",
              "    </tr>\n",
              "    <tr>\n",
              "      <th>4</th>\n",
              "      <td>False</td>\n",
              "      <td>True</td>\n",
              "      <td>False</td>\n",
              "      <td>True</td>\n",
              "      <td>True</td>\n",
              "      <td>True</td>\n",
              "      <td>False</td>\n",
              "      <td>False</td>\n",
              "      <td>True</td>\n",
              "      <td>False</td>\n",
              "      <td>False</td>\n",
              "    </tr>\n",
              "  </tbody>\n",
              "</table>\n",
              "</div>"
            ],
            "text/plain": [
              "   Apple   Corn   Dill   Eggs  Ice Cream  ...   Milk  Nutmeg  Onion  Unicorn  Yogurt\n",
              "0  False  False  False   True      False  ...   True    True   True    False    True\n",
              "1  False  False   True   True      False  ...  False    True   True    False    True\n",
              "2   True  False  False   True      False  ...   True   False  False    False   False\n",
              "3  False   True  False  False      False  ...   True   False  False     True    True\n",
              "4  False   True  False   True       True  ...  False   False   True    False   False\n",
              "\n",
              "[5 rows x 11 columns]"
            ]
          },
          "metadata": {
            "tags": []
          },
          "execution_count": 10
        }
      ]
    },
    {
      "cell_type": "markdown",
      "metadata": {
        "id": "DuSQs4TTAdu5"
      },
      "source": [
        "Kita coba menggunakan \"confidence\""
      ]
    },
    {
      "cell_type": "code",
      "metadata": {
        "id": "dEUiJ6cyAdu5"
      },
      "source": [
        "data_rules = association_rules(apriori(data,min_support=0.6,use_colnames=True),\n",
        "                  metric= 'confidence', \n",
        "                  min_threshold=0.8)"
      ],
      "execution_count": 11,
      "outputs": []
    },
    {
      "cell_type": "markdown",
      "metadata": {
        "id": "1IpAVfOJAdu5"
      },
      "source": [
        "Berikut bila kita coba cek tipe dan isi dari \"antecedents\" yang kita hasilkan setelah penyesuaian. Ini adalah salah satu atribut yang dipakai untuk memperlihatkan ketersediaan hubungan kombinasi antar item serta keterkaitannya terhadap item lain tersebut pada setiap transaksi, untuk nilai minimal tertentu (misal: min_support)."
      ]
    },
    {
      "cell_type": "code",
      "metadata": {
        "id": "EEBeyj6LAdu5",
        "colab": {
          "base_uri": "https://localhost:8080/"
        },
        "outputId": "b7276960-dc63-4607-dacb-d8b02e2512ac"
      },
      "source": [
        "type(data_rules['antecedents'].iloc[0])"
      ],
      "execution_count": 12,
      "outputs": [
        {
          "output_type": "execute_result",
          "data": {
            "text/plain": [
              "frozenset"
            ]
          },
          "metadata": {
            "tags": []
          },
          "execution_count": 12
        }
      ]
    },
    {
      "cell_type": "code",
      "metadata": {
        "id": "90Q1rYI1Adu6",
        "colab": {
          "base_uri": "https://localhost:8080/",
          "height": 325
        },
        "outputId": "fa5418f1-b1d5-48a6-ec22-947427d47eb3"
      },
      "source": [
        "data_rules"
      ],
      "execution_count": 13,
      "outputs": [
        {
          "output_type": "execute_result",
          "data": {
            "text/html": [
              "<div>\n",
              "<style scoped>\n",
              "    .dataframe tbody tr th:only-of-type {\n",
              "        vertical-align: middle;\n",
              "    }\n",
              "\n",
              "    .dataframe tbody tr th {\n",
              "        vertical-align: top;\n",
              "    }\n",
              "\n",
              "    .dataframe thead th {\n",
              "        text-align: right;\n",
              "    }\n",
              "</style>\n",
              "<table border=\"1\" class=\"dataframe\">\n",
              "  <thead>\n",
              "    <tr style=\"text-align: right;\">\n",
              "      <th></th>\n",
              "      <th>antecedents</th>\n",
              "      <th>consequents</th>\n",
              "      <th>antecedent support</th>\n",
              "      <th>consequent support</th>\n",
              "      <th>support</th>\n",
              "      <th>confidence</th>\n",
              "      <th>lift</th>\n",
              "      <th>leverage</th>\n",
              "      <th>conviction</th>\n",
              "    </tr>\n",
              "  </thead>\n",
              "  <tbody>\n",
              "    <tr>\n",
              "      <th>0</th>\n",
              "      <td>(Eggs)</td>\n",
              "      <td>(Kidney Beans)</td>\n",
              "      <td>0.8</td>\n",
              "      <td>1.0</td>\n",
              "      <td>0.8</td>\n",
              "      <td>1.0</td>\n",
              "      <td>1.00</td>\n",
              "      <td>0.00</td>\n",
              "      <td>inf</td>\n",
              "    </tr>\n",
              "    <tr>\n",
              "      <th>1</th>\n",
              "      <td>(Kidney Beans)</td>\n",
              "      <td>(Eggs)</td>\n",
              "      <td>1.0</td>\n",
              "      <td>0.8</td>\n",
              "      <td>0.8</td>\n",
              "      <td>0.8</td>\n",
              "      <td>1.00</td>\n",
              "      <td>0.00</td>\n",
              "      <td>1.0</td>\n",
              "    </tr>\n",
              "    <tr>\n",
              "      <th>2</th>\n",
              "      <td>(Onion)</td>\n",
              "      <td>(Eggs)</td>\n",
              "      <td>0.6</td>\n",
              "      <td>0.8</td>\n",
              "      <td>0.6</td>\n",
              "      <td>1.0</td>\n",
              "      <td>1.25</td>\n",
              "      <td>0.12</td>\n",
              "      <td>inf</td>\n",
              "    </tr>\n",
              "    <tr>\n",
              "      <th>3</th>\n",
              "      <td>(Milk)</td>\n",
              "      <td>(Kidney Beans)</td>\n",
              "      <td>0.6</td>\n",
              "      <td>1.0</td>\n",
              "      <td>0.6</td>\n",
              "      <td>1.0</td>\n",
              "      <td>1.00</td>\n",
              "      <td>0.00</td>\n",
              "      <td>inf</td>\n",
              "    </tr>\n",
              "    <tr>\n",
              "      <th>4</th>\n",
              "      <td>(Onion)</td>\n",
              "      <td>(Kidney Beans)</td>\n",
              "      <td>0.6</td>\n",
              "      <td>1.0</td>\n",
              "      <td>0.6</td>\n",
              "      <td>1.0</td>\n",
              "      <td>1.00</td>\n",
              "      <td>0.00</td>\n",
              "      <td>inf</td>\n",
              "    </tr>\n",
              "    <tr>\n",
              "      <th>5</th>\n",
              "      <td>(Yogurt)</td>\n",
              "      <td>(Kidney Beans)</td>\n",
              "      <td>0.6</td>\n",
              "      <td>1.0</td>\n",
              "      <td>0.6</td>\n",
              "      <td>1.0</td>\n",
              "      <td>1.00</td>\n",
              "      <td>0.00</td>\n",
              "      <td>inf</td>\n",
              "    </tr>\n",
              "    <tr>\n",
              "      <th>6</th>\n",
              "      <td>(Eggs, Onion)</td>\n",
              "      <td>(Kidney Beans)</td>\n",
              "      <td>0.6</td>\n",
              "      <td>1.0</td>\n",
              "      <td>0.6</td>\n",
              "      <td>1.0</td>\n",
              "      <td>1.00</td>\n",
              "      <td>0.00</td>\n",
              "      <td>inf</td>\n",
              "    </tr>\n",
              "    <tr>\n",
              "      <th>7</th>\n",
              "      <td>(Kidney Beans, Onion)</td>\n",
              "      <td>(Eggs)</td>\n",
              "      <td>0.6</td>\n",
              "      <td>0.8</td>\n",
              "      <td>0.6</td>\n",
              "      <td>1.0</td>\n",
              "      <td>1.25</td>\n",
              "      <td>0.12</td>\n",
              "      <td>inf</td>\n",
              "    </tr>\n",
              "    <tr>\n",
              "      <th>8</th>\n",
              "      <td>(Onion)</td>\n",
              "      <td>(Eggs, Kidney Beans)</td>\n",
              "      <td>0.6</td>\n",
              "      <td>0.8</td>\n",
              "      <td>0.6</td>\n",
              "      <td>1.0</td>\n",
              "      <td>1.25</td>\n",
              "      <td>0.12</td>\n",
              "      <td>inf</td>\n",
              "    </tr>\n",
              "  </tbody>\n",
              "</table>\n",
              "</div>"
            ],
            "text/plain": [
              "             antecedents           consequents  ...  leverage  conviction\n",
              "0                 (Eggs)        (Kidney Beans)  ...      0.00         inf\n",
              "1         (Kidney Beans)                (Eggs)  ...      0.00         1.0\n",
              "2                (Onion)                (Eggs)  ...      0.12         inf\n",
              "3                 (Milk)        (Kidney Beans)  ...      0.00         inf\n",
              "4                (Onion)        (Kidney Beans)  ...      0.00         inf\n",
              "5               (Yogurt)        (Kidney Beans)  ...      0.00         inf\n",
              "6          (Eggs, Onion)        (Kidney Beans)  ...      0.00         inf\n",
              "7  (Kidney Beans, Onion)                (Eggs)  ...      0.12         inf\n",
              "8                (Onion)  (Eggs, Kidney Beans)  ...      0.12         inf\n",
              "\n",
              "[9 rows x 9 columns]"
            ]
          },
          "metadata": {
            "tags": []
          },
          "execution_count": 13
        }
      ]
    },
    {
      "cell_type": "markdown",
      "metadata": {
        "id": "FcDY5M0CAdu7"
      },
      "source": [
        "Disini terlihat informasi untuk keterkaitannya, seperti besaran support, dll."
      ]
    },
    {
      "cell_type": "markdown",
      "metadata": {
        "id": "fiTsC88qAdu7"
      },
      "source": [
        "## Latihan"
      ]
    },
    {
      "cell_type": "markdown",
      "metadata": {
        "id": "7pW1PvfFAdu7"
      },
      "source": [
        "Buatlah sebuah fungsi rekomendasi barang berdasarkan dataset ke-2 diatas.<br>\n",
        "Pakai antecendent jadi input, dan consequents jadi output.<br>\n",
        "Nilai min_support = 0.6 <br>\n",
        "Fungsi dapat menampung input dari user berupa nama salah satu item. <br>\n",
        "Lalu output yang dihasilkan adalah consequents dari item (antecedent). <br>\n",
        "Jangan lupa hasil output diurutkan berdasarkan besar nilai supportnya. <br><br>\n",
        "Contoh:"
      ]
    },
    {
      "cell_type": "markdown",
      "metadata": {
        "id": "ujtj7CjsAdu7"
      },
      "source": [
        "![cth untuk latihan.PNG](data:image/png;base64,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)\r\n",
        "![cth utk latihan 2.PNG](data:image/png;base64,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)"
      ]
    },
    {
      "cell_type": "markdown",
      "metadata": {
        "id": "Pz0qXBwJzCxz"
      },
      "source": [
        "## Jawaban"
      ]
    },
    {
      "cell_type": "code",
      "metadata": {
        "colab": {
          "base_uri": "https://localhost:8080/",
          "height": 325
        },
        "id": "KHVPwe_6vGqq",
        "outputId": "f2b1b9f9-d136-4b50-fb57-2a3b5d5a3d2a"
      },
      "source": [
        "data_rules"
      ],
      "execution_count": 14,
      "outputs": [
        {
          "output_type": "execute_result",
          "data": {
            "text/html": [
              "<div>\n",
              "<style scoped>\n",
              "    .dataframe tbody tr th:only-of-type {\n",
              "        vertical-align: middle;\n",
              "    }\n",
              "\n",
              "    .dataframe tbody tr th {\n",
              "        vertical-align: top;\n",
              "    }\n",
              "\n",
              "    .dataframe thead th {\n",
              "        text-align: right;\n",
              "    }\n",
              "</style>\n",
              "<table border=\"1\" class=\"dataframe\">\n",
              "  <thead>\n",
              "    <tr style=\"text-align: right;\">\n",
              "      <th></th>\n",
              "      <th>antecedents</th>\n",
              "      <th>consequents</th>\n",
              "      <th>antecedent support</th>\n",
              "      <th>consequent support</th>\n",
              "      <th>support</th>\n",
              "      <th>confidence</th>\n",
              "      <th>lift</th>\n",
              "      <th>leverage</th>\n",
              "      <th>conviction</th>\n",
              "    </tr>\n",
              "  </thead>\n",
              "  <tbody>\n",
              "    <tr>\n",
              "      <th>0</th>\n",
              "      <td>(Eggs)</td>\n",
              "      <td>(Kidney Beans)</td>\n",
              "      <td>0.8</td>\n",
              "      <td>1.0</td>\n",
              "      <td>0.8</td>\n",
              "      <td>1.0</td>\n",
              "      <td>1.00</td>\n",
              "      <td>0.00</td>\n",
              "      <td>inf</td>\n",
              "    </tr>\n",
              "    <tr>\n",
              "      <th>1</th>\n",
              "      <td>(Kidney Beans)</td>\n",
              "      <td>(Eggs)</td>\n",
              "      <td>1.0</td>\n",
              "      <td>0.8</td>\n",
              "      <td>0.8</td>\n",
              "      <td>0.8</td>\n",
              "      <td>1.00</td>\n",
              "      <td>0.00</td>\n",
              "      <td>1.0</td>\n",
              "    </tr>\n",
              "    <tr>\n",
              "      <th>2</th>\n",
              "      <td>(Onion)</td>\n",
              "      <td>(Eggs)</td>\n",
              "      <td>0.6</td>\n",
              "      <td>0.8</td>\n",
              "      <td>0.6</td>\n",
              "      <td>1.0</td>\n",
              "      <td>1.25</td>\n",
              "      <td>0.12</td>\n",
              "      <td>inf</td>\n",
              "    </tr>\n",
              "    <tr>\n",
              "      <th>3</th>\n",
              "      <td>(Milk)</td>\n",
              "      <td>(Kidney Beans)</td>\n",
              "      <td>0.6</td>\n",
              "      <td>1.0</td>\n",
              "      <td>0.6</td>\n",
              "      <td>1.0</td>\n",
              "      <td>1.00</td>\n",
              "      <td>0.00</td>\n",
              "      <td>inf</td>\n",
              "    </tr>\n",
              "    <tr>\n",
              "      <th>4</th>\n",
              "      <td>(Onion)</td>\n",
              "      <td>(Kidney Beans)</td>\n",
              "      <td>0.6</td>\n",
              "      <td>1.0</td>\n",
              "      <td>0.6</td>\n",
              "      <td>1.0</td>\n",
              "      <td>1.00</td>\n",
              "      <td>0.00</td>\n",
              "      <td>inf</td>\n",
              "    </tr>\n",
              "    <tr>\n",
              "      <th>5</th>\n",
              "      <td>(Yogurt)</td>\n",
              "      <td>(Kidney Beans)</td>\n",
              "      <td>0.6</td>\n",
              "      <td>1.0</td>\n",
              "      <td>0.6</td>\n",
              "      <td>1.0</td>\n",
              "      <td>1.00</td>\n",
              "      <td>0.00</td>\n",
              "      <td>inf</td>\n",
              "    </tr>\n",
              "    <tr>\n",
              "      <th>6</th>\n",
              "      <td>(Eggs, Onion)</td>\n",
              "      <td>(Kidney Beans)</td>\n",
              "      <td>0.6</td>\n",
              "      <td>1.0</td>\n",
              "      <td>0.6</td>\n",
              "      <td>1.0</td>\n",
              "      <td>1.00</td>\n",
              "      <td>0.00</td>\n",
              "      <td>inf</td>\n",
              "    </tr>\n",
              "    <tr>\n",
              "      <th>7</th>\n",
              "      <td>(Kidney Beans, Onion)</td>\n",
              "      <td>(Eggs)</td>\n",
              "      <td>0.6</td>\n",
              "      <td>0.8</td>\n",
              "      <td>0.6</td>\n",
              "      <td>1.0</td>\n",
              "      <td>1.25</td>\n",
              "      <td>0.12</td>\n",
              "      <td>inf</td>\n",
              "    </tr>\n",
              "    <tr>\n",
              "      <th>8</th>\n",
              "      <td>(Onion)</td>\n",
              "      <td>(Eggs, Kidney Beans)</td>\n",
              "      <td>0.6</td>\n",
              "      <td>0.8</td>\n",
              "      <td>0.6</td>\n",
              "      <td>1.0</td>\n",
              "      <td>1.25</td>\n",
              "      <td>0.12</td>\n",
              "      <td>inf</td>\n",
              "    </tr>\n",
              "  </tbody>\n",
              "</table>\n",
              "</div>"
            ],
            "text/plain": [
              "             antecedents           consequents  ...  leverage  conviction\n",
              "0                 (Eggs)        (Kidney Beans)  ...      0.00         inf\n",
              "1         (Kidney Beans)                (Eggs)  ...      0.00         1.0\n",
              "2                (Onion)                (Eggs)  ...      0.12         inf\n",
              "3                 (Milk)        (Kidney Beans)  ...      0.00         inf\n",
              "4                (Onion)        (Kidney Beans)  ...      0.00         inf\n",
              "5               (Yogurt)        (Kidney Beans)  ...      0.00         inf\n",
              "6          (Eggs, Onion)        (Kidney Beans)  ...      0.00         inf\n",
              "7  (Kidney Beans, Onion)                (Eggs)  ...      0.12         inf\n",
              "8                (Onion)  (Eggs, Kidney Beans)  ...      0.12         inf\n",
              "\n",
              "[9 rows x 9 columns]"
            ]
          },
          "metadata": {
            "tags": []
          },
          "execution_count": 14
        }
      ]
    },
    {
      "cell_type": "code",
      "metadata": {
        "id": "WNfSNwetvFcs"
      },
      "source": [
        "def rekomendasiBarang():\r\n",
        "  antecedents_input = input(\"Masukkan nama Barang : \").split(', ')\r\n",
        "  print(\"Rekomendasi Barang Belanja: \")\r\n",
        "  print(data_rules[data_rules['antecedents'] == frozenset(set(antecedents_input))]['consequents'])"
      ],
      "execution_count": 15,
      "outputs": []
    },
    {
      "cell_type": "code",
      "metadata": {
        "colab": {
          "base_uri": "https://localhost:8080/"
        },
        "id": "2F8pplLnHrpP",
        "outputId": "ca7b1c87-f880-493e-9904-b33d6e175a19"
      },
      "source": [
        "rekomendasiBarang()"
      ],
      "execution_count": 16,
      "outputs": [
        {
          "output_type": "stream",
          "text": [
            "Masukkan nama Barang : Onion\n",
            "Rekomendasi Barang Belanja: \n",
            "2                  (Eggs)\n",
            "4          (Kidney Beans)\n",
            "8    (Eggs, Kidney Beans)\n",
            "Name: consequents, dtype: object\n"
          ],
          "name": "stdout"
        }
      ]
    },
    {
      "cell_type": "code",
      "metadata": {
        "id": "KmwOLu6vLrs6"
      },
      "source": [
        "def rekomendasiBarang2():\r\n",
        "  print(data_rules)\r\n",
        "  antecedents_input = input(\"\\nMasukkan nama Barang : \").split(', ')\r\n",
        "  print(\"Rekomendasi Barang Belanja: \\n\")\r\n",
        "  print(data_rules[data_rules['antecedents'] == frozenset(set(antecedents_input))]['consequents'])"
      ],
      "execution_count": 17,
      "outputs": []
    },
    {
      "cell_type": "code",
      "metadata": {
        "id": "uHfvUjTw-fWh",
        "colab": {
          "base_uri": "https://localhost:8080/"
        },
        "outputId": "2571f373-d5c7-4283-ca48-509744dbb839"
      },
      "source": [
        "rekomendasiBarang2()"
      ],
      "execution_count": 19,
      "outputs": [
        {
          "output_type": "stream",
          "text": [
            "             antecedents           consequents  ...  leverage  conviction\n",
            "0                 (Eggs)        (Kidney Beans)  ...      0.00         inf\n",
            "1         (Kidney Beans)                (Eggs)  ...      0.00         1.0\n",
            "2                (Onion)                (Eggs)  ...      0.12         inf\n",
            "3                 (Milk)        (Kidney Beans)  ...      0.00         inf\n",
            "4                (Onion)        (Kidney Beans)  ...      0.00         inf\n",
            "5               (Yogurt)        (Kidney Beans)  ...      0.00         inf\n",
            "6          (Eggs, Onion)        (Kidney Beans)  ...      0.00         inf\n",
            "7  (Kidney Beans, Onion)                (Eggs)  ...      0.12         inf\n",
            "8                (Onion)  (Eggs, Kidney Beans)  ...      0.12         inf\n",
            "\n",
            "[9 rows x 9 columns]\n",
            "\n",
            "Masukkan nama Barang : Eggs\n",
            "Rekomendasi Barang Belanja: \n",
            "\n",
            "0    (Kidney Beans)\n",
            "Name: consequents, dtype: object\n"
          ],
          "name": "stdout"
        }
      ]
    },
    {
      "cell_type": "code",
      "metadata": {
        "id": "3CGppnnI0XQA"
      },
      "source": [
        ""
      ],
      "execution_count": 19,
      "outputs": []
    }
  ]
}