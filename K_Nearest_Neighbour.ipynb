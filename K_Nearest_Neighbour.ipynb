{
  "nbformat": 4,
  "nbformat_minor": 0,
  "metadata": {
    "kernelspec": {
      "display_name": "Python 3",
      "language": "python",
      "name": "python3"
    },
    "language_info": {
      "codemirror_mode": {
        "name": "ipython",
        "version": 3
      },
      "file_extension": ".py",
      "mimetype": "text/x-python",
      "name": "python",
      "nbconvert_exporter": "python",
      "pygments_lexer": "ipython3",
      "version": "3.6.0"
    },
    "colab": {
      "name": "K-Nearest Neighbour.ipynb",
      "provenance": []
    }
  },
  "cells": [
    {
      "cell_type": "markdown",
      "metadata": {
        "id": "GtT1AxuA5njq"
      },
      "source": [
        "1. Pakai dataset iris"
      ]
    },
    {
      "cell_type": "code",
      "metadata": {
        "id": "mGzX56vf5njx"
      },
      "source": [
        "#Library\n",
        "import numpy as np\n",
        "import pandas as pd\n",
        "from sklearn import datasets"
      ],
      "execution_count": 1,
      "outputs": []
    },
    {
      "cell_type": "code",
      "metadata": {
        "id": "s7vSnybC5nkA"
      },
      "source": [
        "#Dataset Iris\n",
        "iris = datasets.load_iris()"
      ],
      "execution_count": 2,
      "outputs": []
    },
    {
      "cell_type": "markdown",
      "metadata": {
        "id": "bE0JIbfq5nkK"
      },
      "source": [
        "<b>iris.csv</b><br> <center>![image.png](data:image/png;base64,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)\n",
        "</center>"
      ]
    },
    {
      "cell_type": "code",
      "metadata": {
        "id": "QrtJj_yA5nkL",
        "colab": {
          "base_uri": "https://localhost:8080/"
        },
        "outputId": "b36dd7ff-7b5d-4f89-8797-1f58b9582184"
      },
      "source": [
        "#jenis klasifikasi iris\n",
        "iris.target_names"
      ],
      "execution_count": 3,
      "outputs": [
        {
          "output_type": "execute_result",
          "data": {
            "text/plain": [
              "array(['setosa', 'versicolor', 'virginica'], dtype='<U10')"
            ]
          },
          "metadata": {
            "tags": []
          },
          "execution_count": 3
        }
      ]
    },
    {
      "cell_type": "code",
      "metadata": {
        "id": "q-BINvgt5nkX",
        "colab": {
          "base_uri": "https://localhost:8080/"
        },
        "outputId": "6f4b955d-0c14-4274-d74c-014e9dfa0ecb"
      },
      "source": [
        "#jenis atribut pembeda\n",
        "iris.feature_names"
      ],
      "execution_count": 4,
      "outputs": [
        {
          "output_type": "execute_result",
          "data": {
            "text/plain": [
              "['sepal length (cm)',\n",
              " 'sepal width (cm)',\n",
              " 'petal length (cm)',\n",
              " 'petal width (cm)']"
            ]
          },
          "metadata": {
            "tags": []
          },
          "execution_count": 4
        }
      ]
    },
    {
      "cell_type": "markdown",
      "metadata": {
        "id": "1qglNdzi7Tg8"
      },
      "source": [
        "<center><img src=\"http://www.bogotobogo.com/python/scikit-learn/images/features/iris-data-set.png\"></center>\n"
      ]
    },
    {
      "cell_type": "code",
      "metadata": {
        "id": "zfm-3B375nko",
        "colab": {
          "base_uri": "https://localhost:8080/"
        },
        "outputId": "24b4fa74-00e8-4093-90bf-b5156584eb54"
      },
      "source": [
        "#tampilkan isi data\n",
        "iris.data"
      ],
      "execution_count": 5,
      "outputs": [
        {
          "output_type": "execute_result",
          "data": {
            "text/plain": [
              "array([[5.1, 3.5, 1.4, 0.2],\n",
              "       [4.9, 3. , 1.4, 0.2],\n",
              "       [4.7, 3.2, 1.3, 0.2],\n",
              "       [4.6, 3.1, 1.5, 0.2],\n",
              "       [5. , 3.6, 1.4, 0.2],\n",
              "       [5.4, 3.9, 1.7, 0.4],\n",
              "       [4.6, 3.4, 1.4, 0.3],\n",
              "       [5. , 3.4, 1.5, 0.2],\n",
              "       [4.4, 2.9, 1.4, 0.2],\n",
              "       [4.9, 3.1, 1.5, 0.1],\n",
              "       [5.4, 3.7, 1.5, 0.2],\n",
              "       [4.8, 3.4, 1.6, 0.2],\n",
              "       [4.8, 3. , 1.4, 0.1],\n",
              "       [4.3, 3. , 1.1, 0.1],\n",
              "       [5.8, 4. , 1.2, 0.2],\n",
              "       [5.7, 4.4, 1.5, 0.4],\n",
              "       [5.4, 3.9, 1.3, 0.4],\n",
              "       [5.1, 3.5, 1.4, 0.3],\n",
              "       [5.7, 3.8, 1.7, 0.3],\n",
              "       [5.1, 3.8, 1.5, 0.3],\n",
              "       [5.4, 3.4, 1.7, 0.2],\n",
              "       [5.1, 3.7, 1.5, 0.4],\n",
              "       [4.6, 3.6, 1. , 0.2],\n",
              "       [5.1, 3.3, 1.7, 0.5],\n",
              "       [4.8, 3.4, 1.9, 0.2],\n",
              "       [5. , 3. , 1.6, 0.2],\n",
              "       [5. , 3.4, 1.6, 0.4],\n",
              "       [5.2, 3.5, 1.5, 0.2],\n",
              "       [5.2, 3.4, 1.4, 0.2],\n",
              "       [4.7, 3.2, 1.6, 0.2],\n",
              "       [4.8, 3.1, 1.6, 0.2],\n",
              "       [5.4, 3.4, 1.5, 0.4],\n",
              "       [5.2, 4.1, 1.5, 0.1],\n",
              "       [5.5, 4.2, 1.4, 0.2],\n",
              "       [4.9, 3.1, 1.5, 0.2],\n",
              "       [5. , 3.2, 1.2, 0.2],\n",
              "       [5.5, 3.5, 1.3, 0.2],\n",
              "       [4.9, 3.6, 1.4, 0.1],\n",
              "       [4.4, 3. , 1.3, 0.2],\n",
              "       [5.1, 3.4, 1.5, 0.2],\n",
              "       [5. , 3.5, 1.3, 0.3],\n",
              "       [4.5, 2.3, 1.3, 0.3],\n",
              "       [4.4, 3.2, 1.3, 0.2],\n",
              "       [5. , 3.5, 1.6, 0.6],\n",
              "       [5.1, 3.8, 1.9, 0.4],\n",
              "       [4.8, 3. , 1.4, 0.3],\n",
              "       [5.1, 3.8, 1.6, 0.2],\n",
              "       [4.6, 3.2, 1.4, 0.2],\n",
              "       [5.3, 3.7, 1.5, 0.2],\n",
              "       [5. , 3.3, 1.4, 0.2],\n",
              "       [7. , 3.2, 4.7, 1.4],\n",
              "       [6.4, 3.2, 4.5, 1.5],\n",
              "       [6.9, 3.1, 4.9, 1.5],\n",
              "       [5.5, 2.3, 4. , 1.3],\n",
              "       [6.5, 2.8, 4.6, 1.5],\n",
              "       [5.7, 2.8, 4.5, 1.3],\n",
              "       [6.3, 3.3, 4.7, 1.6],\n",
              "       [4.9, 2.4, 3.3, 1. ],\n",
              "       [6.6, 2.9, 4.6, 1.3],\n",
              "       [5.2, 2.7, 3.9, 1.4],\n",
              "       [5. , 2. , 3.5, 1. ],\n",
              "       [5.9, 3. , 4.2, 1.5],\n",
              "       [6. , 2.2, 4. , 1. ],\n",
              "       [6.1, 2.9, 4.7, 1.4],\n",
              "       [5.6, 2.9, 3.6, 1.3],\n",
              "       [6.7, 3.1, 4.4, 1.4],\n",
              "       [5.6, 3. , 4.5, 1.5],\n",
              "       [5.8, 2.7, 4.1, 1. ],\n",
              "       [6.2, 2.2, 4.5, 1.5],\n",
              "       [5.6, 2.5, 3.9, 1.1],\n",
              "       [5.9, 3.2, 4.8, 1.8],\n",
              "       [6.1, 2.8, 4. , 1.3],\n",
              "       [6.3, 2.5, 4.9, 1.5],\n",
              "       [6.1, 2.8, 4.7, 1.2],\n",
              "       [6.4, 2.9, 4.3, 1.3],\n",
              "       [6.6, 3. , 4.4, 1.4],\n",
              "       [6.8, 2.8, 4.8, 1.4],\n",
              "       [6.7, 3. , 5. , 1.7],\n",
              "       [6. , 2.9, 4.5, 1.5],\n",
              "       [5.7, 2.6, 3.5, 1. ],\n",
              "       [5.5, 2.4, 3.8, 1.1],\n",
              "       [5.5, 2.4, 3.7, 1. ],\n",
              "       [5.8, 2.7, 3.9, 1.2],\n",
              "       [6. , 2.7, 5.1, 1.6],\n",
              "       [5.4, 3. , 4.5, 1.5],\n",
              "       [6. , 3.4, 4.5, 1.6],\n",
              "       [6.7, 3.1, 4.7, 1.5],\n",
              "       [6.3, 2.3, 4.4, 1.3],\n",
              "       [5.6, 3. , 4.1, 1.3],\n",
              "       [5.5, 2.5, 4. , 1.3],\n",
              "       [5.5, 2.6, 4.4, 1.2],\n",
              "       [6.1, 3. , 4.6, 1.4],\n",
              "       [5.8, 2.6, 4. , 1.2],\n",
              "       [5. , 2.3, 3.3, 1. ],\n",
              "       [5.6, 2.7, 4.2, 1.3],\n",
              "       [5.7, 3. , 4.2, 1.2],\n",
              "       [5.7, 2.9, 4.2, 1.3],\n",
              "       [6.2, 2.9, 4.3, 1.3],\n",
              "       [5.1, 2.5, 3. , 1.1],\n",
              "       [5.7, 2.8, 4.1, 1.3],\n",
              "       [6.3, 3.3, 6. , 2.5],\n",
              "       [5.8, 2.7, 5.1, 1.9],\n",
              "       [7.1, 3. , 5.9, 2.1],\n",
              "       [6.3, 2.9, 5.6, 1.8],\n",
              "       [6.5, 3. , 5.8, 2.2],\n",
              "       [7.6, 3. , 6.6, 2.1],\n",
              "       [4.9, 2.5, 4.5, 1.7],\n",
              "       [7.3, 2.9, 6.3, 1.8],\n",
              "       [6.7, 2.5, 5.8, 1.8],\n",
              "       [7.2, 3.6, 6.1, 2.5],\n",
              "       [6.5, 3.2, 5.1, 2. ],\n",
              "       [6.4, 2.7, 5.3, 1.9],\n",
              "       [6.8, 3. , 5.5, 2.1],\n",
              "       [5.7, 2.5, 5. , 2. ],\n",
              "       [5.8, 2.8, 5.1, 2.4],\n",
              "       [6.4, 3.2, 5.3, 2.3],\n",
              "       [6.5, 3. , 5.5, 1.8],\n",
              "       [7.7, 3.8, 6.7, 2.2],\n",
              "       [7.7, 2.6, 6.9, 2.3],\n",
              "       [6. , 2.2, 5. , 1.5],\n",
              "       [6.9, 3.2, 5.7, 2.3],\n",
              "       [5.6, 2.8, 4.9, 2. ],\n",
              "       [7.7, 2.8, 6.7, 2. ],\n",
              "       [6.3, 2.7, 4.9, 1.8],\n",
              "       [6.7, 3.3, 5.7, 2.1],\n",
              "       [7.2, 3.2, 6. , 1.8],\n",
              "       [6.2, 2.8, 4.8, 1.8],\n",
              "       [6.1, 3. , 4.9, 1.8],\n",
              "       [6.4, 2.8, 5.6, 2.1],\n",
              "       [7.2, 3. , 5.8, 1.6],\n",
              "       [7.4, 2.8, 6.1, 1.9],\n",
              "       [7.9, 3.8, 6.4, 2. ],\n",
              "       [6.4, 2.8, 5.6, 2.2],\n",
              "       [6.3, 2.8, 5.1, 1.5],\n",
              "       [6.1, 2.6, 5.6, 1.4],\n",
              "       [7.7, 3. , 6.1, 2.3],\n",
              "       [6.3, 3.4, 5.6, 2.4],\n",
              "       [6.4, 3.1, 5.5, 1.8],\n",
              "       [6. , 3. , 4.8, 1.8],\n",
              "       [6.9, 3.1, 5.4, 2.1],\n",
              "       [6.7, 3.1, 5.6, 2.4],\n",
              "       [6.9, 3.1, 5.1, 2.3],\n",
              "       [5.8, 2.7, 5.1, 1.9],\n",
              "       [6.8, 3.2, 5.9, 2.3],\n",
              "       [6.7, 3.3, 5.7, 2.5],\n",
              "       [6.7, 3. , 5.2, 2.3],\n",
              "       [6.3, 2.5, 5. , 1.9],\n",
              "       [6.5, 3. , 5.2, 2. ],\n",
              "       [6.2, 3.4, 5.4, 2.3],\n",
              "       [5.9, 3. , 5.1, 1.8]])"
            ]
          },
          "metadata": {
            "tags": []
          },
          "execution_count": 5
        }
      ]
    },
    {
      "cell_type": "code",
      "metadata": {
        "id": "FPtqD-t35nkz",
        "colab": {
          "base_uri": "https://localhost:8080/"
        },
        "outputId": "7f6e4271-1ed1-40fa-bc33-6446a5638066"
      },
      "source": [
        "#tampilkan target klasifikasi (0=setosa; 1=versicolor; 2=virginica)\n",
        "iris.target"
      ],
      "execution_count": 6,
      "outputs": [
        {
          "output_type": "execute_result",
          "data": {
            "text/plain": [
              "array([0, 0, 0, 0, 0, 0, 0, 0, 0, 0, 0, 0, 0, 0, 0, 0, 0, 0, 0, 0, 0, 0,\n",
              "       0, 0, 0, 0, 0, 0, 0, 0, 0, 0, 0, 0, 0, 0, 0, 0, 0, 0, 0, 0, 0, 0,\n",
              "       0, 0, 0, 0, 0, 0, 1, 1, 1, 1, 1, 1, 1, 1, 1, 1, 1, 1, 1, 1, 1, 1,\n",
              "       1, 1, 1, 1, 1, 1, 1, 1, 1, 1, 1, 1, 1, 1, 1, 1, 1, 1, 1, 1, 1, 1,\n",
              "       1, 1, 1, 1, 1, 1, 1, 1, 1, 1, 1, 1, 2, 2, 2, 2, 2, 2, 2, 2, 2, 2,\n",
              "       2, 2, 2, 2, 2, 2, 2, 2, 2, 2, 2, 2, 2, 2, 2, 2, 2, 2, 2, 2, 2, 2,\n",
              "       2, 2, 2, 2, 2, 2, 2, 2, 2, 2, 2, 2, 2, 2, 2, 2, 2, 2])"
            ]
          },
          "metadata": {
            "tags": []
          },
          "execution_count": 6
        }
      ]
    },
    {
      "cell_type": "code",
      "metadata": {
        "id": "qrFvAoRR5nk9"
      },
      "source": [
        "#Set X dan y\n",
        "X = iris.data\n",
        "y = iris.target"
      ],
      "execution_count": 7,
      "outputs": []
    },
    {
      "cell_type": "code",
      "metadata": {
        "id": "k-i6KNqc5nlL"
      },
      "source": [
        "#Bagi menjadi data train dan data test (80% : 20%)\n",
        "from sklearn.model_selection import train_test_split\n",
        "    \n",
        "X_train, X_test, y_train, y_test = train_test_split(X,y,test_size=0.20, random_state=0)"
      ],
      "execution_count": 8,
      "outputs": []
    },
    {
      "cell_type": "markdown",
      "metadata": {
        "id": "QNAZmV9_5nlT"
      },
      "source": [
        "2. Pemodelan dengan KNN"
      ]
    },
    {
      "cell_type": "code",
      "metadata": {
        "id": "0TH4ehqt5nlV",
        "colab": {
          "base_uri": "https://localhost:8080/"
        },
        "outputId": "fd47e897-4eff-40f8-9cac-2e79321ca1c8"
      },
      "source": [
        "#Prediksi dengan KNN (coba n=5)\n",
        "from sklearn.neighbors import KNeighborsClassifier\n",
        "\n",
        "classifier = KNeighborsClassifier(n_neighbors=5)\n",
        "classifier.fit(X_train, y_train)"
      ],
      "execution_count": 9,
      "outputs": [
        {
          "output_type": "execute_result",
          "data": {
            "text/plain": [
              "KNeighborsClassifier(algorithm='auto', leaf_size=30, metric='minkowski',\n",
              "                     metric_params=None, n_jobs=None, n_neighbors=5, p=2,\n",
              "                     weights='uniform')"
            ]
          },
          "metadata": {
            "tags": []
          },
          "execution_count": 9
        }
      ]
    },
    {
      "cell_type": "code",
      "metadata": {
        "id": "v3lgQ9Og5nld"
      },
      "source": [
        "#Prediksi data tes ke dalam model\n",
        "y_pred = classifier.predict(X_test)"
      ],
      "execution_count": 10,
      "outputs": []
    },
    {
      "cell_type": "code",
      "metadata": {
        "id": "Yy2FCjoz5nll",
        "colab": {
          "base_uri": "https://localhost:8080/"
        },
        "outputId": "83d60995-bd0b-47e1-befd-be1d9259380c"
      },
      "source": [
        "#Evaluasi terhadap model\n",
        "from sklearn.metrics import classification_report, confusion_matrix\n",
        "\n",
        "#Menghitung confusion matrix\n",
        "print(confusion_matrix(y_test, y_pred))\n",
        "\n",
        "#info\n",
        "print(classification_report(y_test, y_pred))"
      ],
      "execution_count": 11,
      "outputs": [
        {
          "output_type": "stream",
          "text": [
            "[[11  0  0]\n",
            " [ 0 12  1]\n",
            " [ 0  0  6]]\n",
            "              precision    recall  f1-score   support\n",
            "\n",
            "           0       1.00      1.00      1.00        11\n",
            "           1       1.00      0.92      0.96        13\n",
            "           2       0.86      1.00      0.92         6\n",
            "\n",
            "    accuracy                           0.97        30\n",
            "   macro avg       0.95      0.97      0.96        30\n",
            "weighted avg       0.97      0.97      0.97        30\n",
            "\n"
          ],
          "name": "stdout"
        }
      ]
    },
    {
      "cell_type": "code",
      "metadata": {
        "id": "ae8Hh9_F5nlt",
        "colab": {
          "base_uri": "https://localhost:8080/"
        },
        "outputId": "38cd086e-a285-4ead-91b2-681f784b73c2"
      },
      "source": [
        "#contoh mencari prediksi\n",
        "cc = classifier.predict([[2.3, 6.0, 1.0, 3.2]])\n",
        "cc"
      ],
      "execution_count": 12,
      "outputs": [
        {
          "output_type": "execute_result",
          "data": {
            "text/plain": [
              "array([0])"
            ]
          },
          "metadata": {
            "tags": []
          },
          "execution_count": 12
        }
      ]
    },
    {
      "cell_type": "markdown",
      "metadata": {
        "id": "1JHwESBB5nl1"
      },
      "source": [
        "3. Normalisasi (CONTOH CASE MEMAKAI NORMALISASI STANDARD SCALER)"
      ]
    },
    {
      "cell_type": "code",
      "metadata": {
        "id": "eamuR8iL5nl2"
      },
      "source": [
        "#Ulangi pembagian data train dan test\n",
        "from sklearn.model_selection import train_test_split\n",
        "\n",
        "X_train, X_test, y_train, y_test = train_test_split(X,y,test_size=0.20, random_state=0)"
      ],
      "execution_count": 13,
      "outputs": []
    },
    {
      "cell_type": "code",
      "metadata": {
        "id": "-MBCMZP05nmB"
      },
      "source": [
        "#Untuk menormalisasi, disini pakai StandardScaler\n",
        "from sklearn.preprocessing import StandardScaler\n",
        "\n",
        "scaler = StandardScaler()\n",
        "scaler.fit(X_train)\n",
        "\n",
        "X_train = scaler.transform(X_train)\n",
        "X_test = scaler.transform(X_test)"
      ],
      "execution_count": 14,
      "outputs": []
    },
    {
      "cell_type": "code",
      "metadata": {
        "id": "xpUS0B_65nmJ",
        "colab": {
          "base_uri": "https://localhost:8080/"
        },
        "outputId": "be3bddd2-b002-46b6-b496-6ccfe4b013ab"
      },
      "source": [
        "#Prediksi dengan KNN\n",
        "from sklearn.neighbors import KNeighborsClassifier\n",
        "\n",
        "classifier = KNeighborsClassifier(n_neighbors=5)\n",
        "classifier.fit(X_train, y_train)"
      ],
      "execution_count": 15,
      "outputs": [
        {
          "output_type": "execute_result",
          "data": {
            "text/plain": [
              "KNeighborsClassifier(algorithm='auto', leaf_size=30, metric='minkowski',\n",
              "                     metric_params=None, n_jobs=None, n_neighbors=5, p=2,\n",
              "                     weights='uniform')"
            ]
          },
          "metadata": {
            "tags": []
          },
          "execution_count": 15
        }
      ]
    },
    {
      "cell_type": "code",
      "metadata": {
        "id": "MN2iQ5Mu5nmV"
      },
      "source": [
        "#Prediksi data tes ke dalam model\n",
        "y_pred = classifier.predict(X_test)"
      ],
      "execution_count": 16,
      "outputs": []
    },
    {
      "cell_type": "code",
      "metadata": {
        "id": "DsmO_gTs5nme",
        "colab": {
          "base_uri": "https://localhost:8080/"
        },
        "outputId": "7d9275aa-b67a-46bb-a5fe-40b9064c9ffe"
      },
      "source": [
        "#Evaluasi terhadap model\n",
        "from sklearn.metrics import classification_report, confusion_matrix\n",
        "print(confusion_matrix(y_test, y_pred))\n",
        "\n",
        "print(classification_report(y_test, y_pred))"
      ],
      "execution_count": 17,
      "outputs": [
        {
          "output_type": "stream",
          "text": [
            "[[11  0  0]\n",
            " [ 0 13  0]\n",
            " [ 0  0  6]]\n",
            "              precision    recall  f1-score   support\n",
            "\n",
            "           0       1.00      1.00      1.00        11\n",
            "           1       1.00      1.00      1.00        13\n",
            "           2       1.00      1.00      1.00         6\n",
            "\n",
            "    accuracy                           1.00        30\n",
            "   macro avg       1.00      1.00      1.00        30\n",
            "weighted avg       1.00      1.00      1.00        30\n",
            "\n"
          ],
          "name": "stdout"
        }
      ]
    },
    {
      "cell_type": "markdown",
      "metadata": {
        "id": "FlriyszF5nmp"
      },
      "source": [
        "Note: Contoh plotting data iris"
      ]
    },
    {
      "cell_type": "code",
      "metadata": {
        "id": "IpawLm-L5nmq",
        "colab": {
          "base_uri": "https://localhost:8080/",
          "height": 299
        },
        "outputId": "317b7e7a-da6f-4ab8-8286-27ae5273b820"
      },
      "source": [
        "import matplotlib.pyplot as plt\n",
        "\n",
        "for i in range(3):\n",
        "    index = np.where(y == i)\n",
        "    plt.scatter(X[index, 0], X[index, 1], \n",
        "\n",
        "label = iris.target_names[i])\n",
        "    \n",
        "plt.legend()\n",
        "plt.xlabel(iris.feature_names[0])\n",
        "plt.ylabel(iris.feature_names[1])\n",
        "plt.show"
      ],
      "execution_count": 18,
      "outputs": [
        {
          "output_type": "execute_result",
          "data": {
            "text/plain": [
              "<function matplotlib.pyplot.show>"
            ]
          },
          "metadata": {
            "tags": []
          },
          "execution_count": 18
        },
        {
          "output_type": "display_data",
          "data": {
            "image/png": "[encoded data removed]",
            "text/plain": [
              "<Figure size 432x288 with 1 Axes>"
            ]
          },
          "metadata": {
            "tags": [],
            "needs_background": "light"
          }
        }
      ]
    },
    {
      "cell_type": "code",
      "metadata": {
        "id": "Cu9mMeUd5nmz",
        "colab": {
          "base_uri": "https://localhost:8080/",
          "height": 297
        },
        "outputId": "5c76f40b-9973-4e73-bd1c-40b3c646be63"
      },
      "source": [
        "for i in range(3):\n",
        "    index = np.where(y == i)\n",
        "    plt.scatter(X[index, 2], X[index, 3], \n",
        "\n",
        "label = iris.target_names[i])\n",
        "    \n",
        "plt.legend()\n",
        "plt.xlabel(iris.feature_names[2])\n",
        "plt.ylabel(iris.feature_names[3])\n",
        "plt.show"
      ],
      "execution_count": 19,
      "outputs": [
        {
          "output_type": "execute_result",
          "data": {
            "text/plain": [
              "<function matplotlib.pyplot.show>"
            ]
          },
          "metadata": {
            "tags": []
          },
          "execution_count": 19
        },
        {
          "output_type": "display_data",
          "data": {
            "image/png": "[encoded data removed]",
            "text/plain": [
              "<Figure size 432x288 with 1 Axes>"
            ]
          },
          "metadata": {
            "tags": [],
            "needs_background": "light"
          }
        }
      ]
    },
    {
      "cell_type": "code",
      "metadata": {
        "id": "96adT5kbyUy0"
      },
      "source": [
        ""
      ],
      "execution_count": null,
      "outputs": []
    }
  ]
}